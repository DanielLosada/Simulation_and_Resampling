{
 "cells": [
  {
   "cell_type": "code",
   "execution_count": 8,
   "metadata": {},
   "outputs": [],
   "source": [
    "import numpy as np\n",
    "import scipy.stats as stats\n",
    "from sklearn.utils import resample\n",
    "from sklearn.datasets import load_iris\n"
   ]
  },
  {
   "cell_type": "markdown",
   "metadata": {},
   "source": [
    "# Exercise 1"
   ]
  },
  {
   "cell_type": "markdown",
   "metadata": {},
   "source": [
    "## a)\n",
    "We can't reject the H0. So we don't have reasons to believe that the data is not normally distributed."
   ]
  },
  {
   "cell_type": "code",
   "execution_count": 11,
   "metadata": {},
   "outputs": [
    {
     "name": "stdout",
     "output_type": "stream",
     "text": [
      "[5.1 4.9 4.7 4.6 5.  5.4 4.6 5.  4.4 4.9 5.4 4.8 4.8 4.3 5.8 5.7 5.4 5.1\n",
      " 5.7 5.1 5.4 5.1 4.6 5.1 4.8 5.  5.  5.2 5.2 4.7 4.8 5.4 5.2 5.5 4.9 5.\n",
      " 5.5 4.9 4.4 5.1 5.  4.5 4.4 5.  5.1 4.8 5.1 4.6 5.3 5. ]\n",
      "Shapiro-Wilk test: ShapiroResult(statistic=np.float64(0.977698549796646), pvalue=np.float64(0.4595131499174534))\n"
     ]
    }
   ],
   "source": [
    "iris = load_iris()\n",
    "sepal_length = iris.data[iris.target == 0, 0]\n",
    "print(sepal_length)\n",
    "\n",
    "shapiro_test = stats.shapiro(sepal_length)\n",
    "print(\"Shapiro-Wilk test:\", shapiro_test)"
   ]
  },
  {
   "cell_type": "markdown",
   "metadata": {},
   "source": [
    "## b)"
   ]
  },
  {
   "cell_type": "code",
   "execution_count": 16,
   "metadata": {},
   "outputs": [
    {
     "name": "stdout",
     "output_type": "stream",
     "text": [
      "KS test statistic: 0.11485990669608126\n"
     ]
    }
   ],
   "source": [
    "sample_mean = np.mean(sepal_length)\n",
    "sample_sd = np.std(sepal_length, ddof=1)\n",
    "\n",
    "D_statistic, p_val = stats.kstest(sepal_length, 'norm', args=(sample_mean, sample_sd))\n",
    "print(\"KS test statistic:\", D_statistic)"
   ]
  }
 ],
 "metadata": {
  "kernelspec": {
   "display_name": "simulation",
   "language": "python",
   "name": "python3"
  },
  "language_info": {
   "codemirror_mode": {
    "name": "ipython",
    "version": 3
   },
   "file_extension": ".py",
   "mimetype": "text/x-python",
   "name": "python",
   "nbconvert_exporter": "python",
   "pygments_lexer": "ipython3",
   "version": "3.13.1"
  }
 },
 "nbformat": 4,
 "nbformat_minor": 2
}
