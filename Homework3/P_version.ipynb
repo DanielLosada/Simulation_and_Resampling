{
 "cells": [
  {
   "cell_type": "markdown",
   "metadata": {},
   "source": [
    "# 1. Random permutations"
   ]
  },
  {
   "cell_type": "markdown",
   "metadata": {},
   "source": [
    "## 1.a)\n",
    "\n",
    "Is not fair because that would imply that all permutations should have equal probability. In this case, the choice of the second dependes on the first and Alice's positions sometimes is forced. So the distribution is not uniform."
   ]
  },
  {
   "cell_type": "markdown",
   "metadata": {},
   "source": [
    "## 1.b)"
   ]
  },
  {
   "cell_type": "code",
   "execution_count": 27,
   "metadata": {},
   "outputs": [
    {
     "name": "stdout",
     "output_type": "stream",
     "text": [
      "Bathroom schedule: ('Alice', 'Bob', 'Charly', 'Dave')\n"
     ]
    }
   ],
   "source": [
    "import itertools\n",
    "import random\n",
    "\n",
    "def generate_fair_schedule():\n",
    "    people = ['Alice', 'Bob', 'Charly', 'Dave']\n",
    "    valid_permutations = []\n",
    "    \n",
    "    # Generate all possible permutations\n",
    "    for perm in itertools.permutations(people):\n",
    "        if perm.index('Alice') in [0, 1]:  # Ensure Alice is in one of the first two spots\n",
    "            valid_permutations.append(perm)\n",
    "    \n",
    "    # Select one permutation uniformly at random\n",
    "    return random.choice(valid_permutations)\n",
    "\n",
    "# Generate a fair schedule\n",
    "schedule = generate_fair_schedule()\n",
    "print(\"Bathroom schedule:\", schedule)\n"
   ]
  }
 ],
 "metadata": {
  "kernelspec": {
   "display_name": "simulation",
   "language": "python",
   "name": "python3"
  },
  "language_info": {
   "codemirror_mode": {
    "name": "ipython",
    "version": 3
   },
   "file_extension": ".py",
   "mimetype": "text/x-python",
   "name": "python",
   "nbconvert_exporter": "python",
   "pygments_lexer": "ipython3",
   "version": "3.13.1"
  }
 },
 "nbformat": 4,
 "nbformat_minor": 2
}
