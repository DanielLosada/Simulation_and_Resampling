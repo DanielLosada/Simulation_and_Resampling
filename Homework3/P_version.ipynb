{
 "cells": [
  {
   "cell_type": "code",
   "execution_count": 2,
   "metadata": {},
   "outputs": [],
   "source": [
    "import numpy as np\n",
    "import itertools\n",
    "import random\n",
    "import scipy.stats as stats\n"
   ]
  },
  {
   "cell_type": "markdown",
   "metadata": {},
   "source": [
    "# 1. Random permutations"
   ]
  },
  {
   "cell_type": "markdown",
   "metadata": {},
   "source": [
    "## 1.a)\n",
    "\n",
    "Is not fair because that would imply that all permutations should have equal probability. In this case, the choice of the second dependes on the first and Alice's positions sometimes is forced. So the distribution is not uniform."
   ]
  },
  {
   "cell_type": "markdown",
   "metadata": {},
   "source": [
    "## 1.b)"
   ]
  },
  {
   "cell_type": "code",
   "execution_count": null,
   "metadata": {},
   "outputs": [
    {
     "name": "stdout",
     "output_type": "stream",
     "text": [
      "Bathroom schedule: ('Alice', 'Bob', 'Charly', 'Dave')\n"
     ]
    }
   ],
   "source": [
    "def generate_fair_schedule():\n",
    "    people = ['Alice', 'Bob', 'Charly', 'Dave']\n",
    "    valid_permutations = []\n",
    "    \n",
    "    # Generate all possible permutations\n",
    "    for perm in itertools.permutations(people):\n",
    "        # We just save the ones that make Alice be in one of the first 2 turns.\n",
    "        if perm.index('Alice') in [0, 1]:\n",
    "            valid_permutations.append(perm)\n",
    "    \n",
    "    # Select one permutation uniformly at random from the valid ones\n",
    "    return random.choice(valid_permutations)\n",
    "\n",
    "# As we can see, now all valid permutations have equal probability of being selected, making the system fair and fulfilling the Alice requirement.\n",
    "schedule = generate_fair_schedule()\n",
    "print(\"Bathroom schedule:\", schedule)\n"
   ]
  },
  {
   "cell_type": "markdown",
   "metadata": {},
   "source": [
    "# 2. Compound Poisson process"
   ]
  },
  {
   "cell_type": "code",
   "execution_count": null,
   "metadata": {},
   "outputs": [
    {
     "name": "stdout",
     "output_type": "stream",
     "text": [
      "Average time for 100 purchases: 15.346338602341675\n",
      "Expected time to reach 25000 euros in sales: 8.620689655172415\n"
     ]
    }
   ],
   "source": [
    "def simulate_poisson_processes(num_simulations=10000, purchase_threshold=100):\n",
    "    total_times = []\n",
    "    \n",
    "    for _ in range(num_simulations):\n",
    "        # We initialize the time at 1 so we avoid division by 0\n",
    "        time = 1\n",
    "        # Initialize counter of purchases\n",
    "        purchases = 0\n",
    "\n",
    "        # We define when to stop iterating\n",
    "        while purchases < purchase_threshold:\n",
    "            # Define the compound rates\n",
    "            if time < 10:\n",
    "                # Initially increases with time\n",
    "                rate = time\n",
    "            else:\n",
    "                # After time 10 the rate is static\n",
    "                rate = 10\n",
    "            \n",
    "            interarrival_time = np.random.exponential(1 / rate)\n",
    "            time += interarrival_time\n",
    "            purchases += 1\n",
    "\n",
    "        # Append the time taken to get the desired purchases\n",
    "        total_times.append(time)\n",
    "    \n",
    "    # Return the mean time taken\n",
    "    return np.mean(total_times)\n",
    "\n",
    "def expected_time_to_sell_target(target_value=25000):\n",
    "    product_prices = [200, 300, 500]\n",
    "    probabilities = [0.5, 0.3, 0.2]\n",
    "    expected_price_per_purchase = sum(p * prob for p, prob in zip(product_prices, probabilities))\n",
    "    \n",
    "    expected_purchases_needed = target_value / expected_price_per_purchase\n",
    "    expected_time = expected_purchases_needed / 10  # Since after 10 days, λ=10\n",
    "    \n",
    "    return expected_time\n",
    "\n",
    "\n",
    "# Simulate Poisson processes\n",
    "average_time = simulate_poisson_processes()\n",
    "print(\"Average time for 100 purchases:\", average_time)\n",
    "\n",
    "# Compute expected time to reach target sales\n",
    "expected_sales_time = expected_time_to_sell_target()\n",
    "print(\"Expected time to reach 25000 euros in sales:\", expected_sales_time)\n"
   ]
  },
  {
   "cell_type": "markdown",
   "metadata": {},
   "source": [
    "# 3. Pricing European Options"
   ]
  },
  {
   "cell_type": "code",
   "execution_count": 8,
   "metadata": {},
   "outputs": [
    {
     "data": {
      "text/plain": [
       "np.float64(11.002300400554606)"
      ]
     },
     "execution_count": 8,
     "metadata": {},
     "output_type": "execute_result"
    }
   ],
   "source": [
    "S0 = 100\n",
    "K = 100\n",
    "r = 0.02\n",
    "sigma = 0.25\n",
    "T = 1\n",
    "MC = 10000\n",
    "\n",
    "# simulate prices\n",
    "np.random.seed(100)\n",
    "Z = np.random.normal(0, 1, MC)  #get our Z values\n",
    "ST = S0 * np.exp((r - 0.5 * sigma**2) * T + sigma * np.sqrt(T) * Z)  #plug them into the simulation formula\n",
    "\n",
    "# future payoffs\n",
    "payoffs = np.maximum(ST - K, 0)  #we pick the maximum between the difference of a strike price sample and 0, so only the values over 100\n",
    "\n",
    "# adjusted to today's price\n",
    "adjusted_payoffs = np.exp(-r * T) * payoffs \n",
    "\n",
    "# option price derived from the mean of adjusted payoffs\n",
    "option_price = np.mean(adjusted_payoffs)\n",
    "option_price\n",
    "\n"
   ]
  },
  {
   "cell_type": "code",
   "execution_count": 9,
   "metadata": {},
   "outputs": [
    {
     "data": {
      "text/plain": [
       "(np.float64(10.653382692149505), np.float64(11.351218108959708))"
      ]
     },
     "execution_count": 9,
     "metadata": {},
     "output_type": "execute_result"
    }
   ],
   "source": [
    "# 95% confidence interval\n",
    "std_error = np.std(adjusted_payoffs, ddof=1) / np.sqrt(MC)\n",
    "confidence_interval = (\n",
    "    option_price - 1.96 * std_error,\n",
    "    option_price + 1.96 * std_error \n",
    ")\n",
    "confidence_interval[0],confidence_interval[1]"
   ]
  },
  {
   "cell_type": "markdown",
   "metadata": {},
   "source": [
    "Our option price comes out to around €11, with a 95% CI for €10.65 to €11.35."
   ]
  }
 ],
 "metadata": {
  "kernelspec": {
   "display_name": "Python 3",
   "language": "python",
   "name": "python3"
  },
  "language_info": {
   "codemirror_mode": {
    "name": "ipython",
    "version": 3
   },
   "file_extension": ".py",
   "mimetype": "text/x-python",
   "name": "python",
   "nbconvert_exporter": "python",
   "pygments_lexer": "ipython3",
   "version": "3.12.1"
  }
 },
 "nbformat": 4,
 "nbformat_minor": 2
}
